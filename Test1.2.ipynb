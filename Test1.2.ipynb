{
 "cells": [
  {
   "cell_type": "markdown",
   "id": "b3425d91-2da5-4f0c-a6c6-c0ac31a23737",
   "metadata": {},
   "source": [
    "First Unique Character in a String\n",
    "\n",
    "Given a string s, find the first non-repeating character in it and return its index. If it does not exist, return -1.\n",
    "\n",
    "Example 1:\n",
    "Input: s = \"leetcode\"\n",
    "Output: 0\n",
    "\n",
    "Example 2:\n",
    "Input: s = \"loveleetcode\"\n",
    "Output: 2\n",
    "\n",
    "Example 3:\n",
    "Input: s = \"aabb\"\n",
    "Output: -1\n",
    "\n",
    "Constraints:\n",
    "a. 1 <= s.length <= 10^5\n",
    "b. s consists of only lowercase English letters."
   ]
  },
  {
   "cell_type": "code",
   "execution_count": 4,
   "id": "4a408d14-b7d4-4868-a440-84f64b7ef863",
   "metadata": {},
   "outputs": [],
   "source": [
    "def uniqueCharacter(s):\n",
    "    l=[]\n",
    "    l.extend(s)\n",
    "    for i in range(len(l)):\n",
    "        if l.count(l[i])==1:\n",
    "            return i\n",
    "    \n",
    "    return -1\n",
    "    \n",
    "    "
   ]
  },
  {
   "cell_type": "code",
   "execution_count": 5,
   "id": "b5805526-631a-4d9e-97e1-46582932aee4",
   "metadata": {},
   "outputs": [
    {
     "data": {
      "text/plain": [
       "0"
      ]
     },
     "execution_count": 5,
     "metadata": {},
     "output_type": "execute_result"
    }
   ],
   "source": [
    "uniqueCharacter(\"leetcode\")"
   ]
  },
  {
   "cell_type": "code",
   "execution_count": 6,
   "id": "7dfce563-24e3-46b9-ae66-28d1be10b1c3",
   "metadata": {},
   "outputs": [
    {
     "data": {
      "text/plain": [
       "2"
      ]
     },
     "execution_count": 6,
     "metadata": {},
     "output_type": "execute_result"
    }
   ],
   "source": [
    "uniqueCharacter(\"loveleetcode\")"
   ]
  },
  {
   "cell_type": "code",
   "execution_count": 7,
   "id": "d81a5d2e-ddcc-4c5f-9e17-5024dd3ccaf1",
   "metadata": {},
   "outputs": [
    {
     "data": {
      "text/plain": [
       "-1"
      ]
     },
     "execution_count": 7,
     "metadata": {},
     "output_type": "execute_result"
    }
   ],
   "source": [
    "uniqueCharacter(\"aabb\")"
   ]
  },
  {
   "cell_type": "code",
   "execution_count": null,
   "id": "3520f422-9269-4126-ab38-98c396bfae44",
   "metadata": {},
   "outputs": [],
   "source": []
  }
 ],
 "metadata": {
  "kernelspec": {
   "display_name": "Python 3 (ipykernel)",
   "language": "python",
   "name": "python3"
  },
  "language_info": {
   "codemirror_mode": {
    "name": "ipython",
    "version": 3
   },
   "file_extension": ".py",
   "mimetype": "text/x-python",
   "name": "python",
   "nbconvert_exporter": "python",
   "pygments_lexer": "ipython3",
   "version": "3.10.8"
  }
 },
 "nbformat": 4,
 "nbformat_minor": 5
}
